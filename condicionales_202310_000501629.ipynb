{
  "nbformat": 4,
  "nbformat_minor": 0,
  "metadata": {
    "colab": {
      "provenance": [],
      "authorship_tag": "ABX9TyNZxFhpbfb+gicSnAtqI/DH",
      "include_colab_link": true
    },
    "kernelspec": {
      "name": "python3",
      "display_name": "Python 3"
    },
    "language_info": {
      "name": "python"
    }
  },
  "cells": [
    {
      "cell_type": "markdown",
      "metadata": {
        "id": "view-in-github",
        "colab_type": "text"
      },
      "source": [
        "<a href=\"https://colab.research.google.com/github/yesith4k/condicionales_202310_000501629/blob/main/condicionales_202310_000501629.ipynb\" target=\"_parent\"><img src=\"https://colab.research.google.com/assets/colab-badge.svg\" alt=\"Open In Colab\"/></a>"
      ]
    },
    {
      "cell_type": "code",
      "execution_count": 1,
      "metadata": {
        "colab": {
          "base_uri": "https://localhost:8080/"
        },
        "id": "OZFXbq8wCw53",
        "outputId": "cfc54dfd-8302-4869-f2fd-f8c9a98574b6"
      },
      "outputs": [
        {
          "output_type": "stream",
          "name": "stdout",
          "text": [
            "ingrese la calificacion: 4.7\n",
            "excelente\n"
          ]
        }
      ],
      "source": [
        "#pedir al usuario que ingrese la calificacion\n",
        "calificacion = float(input(\"ingrese la calificacion: \"))\n",
        "\n",
        "# clasificar la calificacion\n",
        "if calificacion >= 4.5 and calificacion   <= 5.0:\n",
        "  print(\"excelente\")\n",
        "elif calificacion >= 4.0 and calificacion <= 4.5:\n",
        "  print(\"bueno\")\n",
        "elif calificacion >= 3.0 and calificacion   <= 4.0:\n",
        "  print(\"regular\")\n",
        "elif calificacion >= 0.0 and calificacion  <= 3.0:\n",
        "  print(\"malo\")\n",
        "  \n"
      ]
    }
  ]
}